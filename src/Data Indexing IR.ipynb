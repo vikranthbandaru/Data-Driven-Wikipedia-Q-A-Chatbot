{
 "cells": [
  {
   "cell_type": "code",
   "execution_count": 1,
   "metadata": {
    "id": "e6QNL3f41J76"
   },
   "outputs": [],
   "source": [
    "import json\n",
    "import os\n",
    "import pysolr\n",
    "import requests\n",
    "import pandas as pd\n",
    "\n",
    "CORE_NAME = \"IRF24P2\"\n",
    "VM_IP = \"localhost\""
   ]
  },
  {
   "cell_type": "code",
   "execution_count": 2,
   "metadata": {
    "id": "Hk_4Cev01J76"
   },
   "outputs": [],
   "source": [
    "def delete_core(core=CORE_NAME):\n",
    "    print(os.system('sudo su - solr -c \"/opt/solr/bin/solr delete -c {core}\"'.format(core=core)))\n",
    "\n",
    "\n",
    "def create_core(core=CORE_NAME):\n",
    "    print(os.system(\n",
    "        'sudo su - solr -c \"/opt/solr/bin/solr create -c {core} -n data_driven_schema_configs\"'.format(\n",
    "            core=core)))"
   ]
  },
  {
   "cell_type": "code",
   "execution_count": 3,
   "metadata": {
    "id": "l_abWTov1J77"
   },
   "outputs": [],
   "source": [
    "class Indexer:\n",
    "    def __init__(self):\n",
    "        self.solr_url = f'http://{VM_IP}:8983/solr/'\n",
    "        self.connection = pysolr.Solr(self.solr_url + CORE_NAME, always_commit=True, timeout=5000000)\n",
    "\n",
    "    def do_initial_setup(self):\n",
    "        delete_core()\n",
    "        create_core()\n",
    "\n",
    "    def create_documents(self, docs):\n",
    "        print(self.connection.add(docs))\n",
    "\n",
    "    def add_fields(self):\n",
    "          \n",
    "        data = {\n",
    "            \"add-field\": [\n",
    "                {\n",
    "                    \"name\": \"revision_id\",\n",
    "                    \"type\": \"string\",\n",
    "                    \"indexed\": True\n",
    "    \n",
    "                },\n",
    "                {\n",
    "                    \"name\": \"title\",\n",
    "                    \"type\": \"string\",\n",
    "                    \"indexed\": True\n",
    "   \n",
    "                },\n",
    "                {\n",
    "                    \"name\": \"summary\",\n",
    "                    \"type\": \"text_en\",\n",
    "   \n",
    "                },\n",
    "                {\n",
    "                    \"name\": \"url\",\n",
    "                    \"type\": \"string\",\n",
    "    \n",
    "                },\n",
    "                {\n",
    "                    \"name\": \"topic\",\n",
    "                    \"type\": \"string\",\n",
    "                    \"multiValued\": True\n",
    "   \n",
    "                }\n",
    "               \n",
    "            ]\n",
    "        }\n",
    "\n",
    "        \n",
    "      \n",
    "        print(self.solr_url + CORE_NAME + \"/schema\")\n",
    "        print(requests.post(self.solr_url + CORE_NAME + \"/schema\", json=data).json())"
   ]
  },
  {
   "cell_type": "code",
   "execution_count": 4,
   "metadata": {
    "id": "j-aPZHCJ1J78",
    "outputId": "1366f611-d4f6-4fb0-dd2f-08eaf0522f7d"
   },
   "outputs": [
    {
     "name": "stdout",
     "output_type": "stream",
     "text": [
      "\n",
      "Deleting core 'IRF24P2' using CoreAdminRequest\n",
      "\n",
      "256\n"
     ]
    },
    {
     "name": "stderr",
     "output_type": "stream",
     "text": [
      "\n",
      "ERROR: Error from server at http://localhost:8983/solr/admin/cores?action=UNLOAD&core=IRF24P2&indexInfo=true&deleteIndex=true&deleteDataDir=true&deleteInstanceDir=true&wt=json&version=2.2: null\n",
      "request: GET\n",
      "\n",
      "Error returned:\n",
      "{\n",
      "  \"responseHeader\":{\n",
      "    \"status\":400,\n",
      "    \"QTime\":10\n",
      "  },\n",
      "  \"error\":{\n",
      "    \"metadata\":[\"error-class\",\"org.apache.solr.common.SolrException\",\"root-error-class\",\"org.apache.solr.common.SolrException\"],\n",
      "    \"msg\":\"Cannot unload non-existent core [IRF24P2]\",\n",
      "    \"code\":400\n",
      "  }\n",
      "}\n",
      "\n"
     ]
    },
    {
     "name": "stdout",
     "output_type": "stream",
     "text": [
      "\n",
      "Created new core 'IRF24P2'\n",
      "0\n",
      "http://localhost:8983/solr/IRF24P2/schema\n",
      "{'responseHeader': {'status': 0, 'QTime': 1721}}\n"
     ]
    }
   ],
   "source": [
    "# Setting up the core and adding the fields\n",
    "i = Indexer()\n",
    "i.do_initial_setup()\n",
    "i.add_fields()"
   ]
  },
  {
   "cell_type": "code",
   "execution_count": 5,
   "metadata": {},
   "outputs": [],
   "source": [
    "with open('wikipedia_combined.json', 'r') as f:\n",
    "    wiki_json = json.load(f)"
   ]
  },
  {
   "cell_type": "code",
   "execution_count": 6,
   "metadata": {},
   "outputs": [],
   "source": [
    "def parse_wiki_json(wiki_json):\n",
    "    # Parse the JSON string if necessary\n",
    "    if isinstance(wiki_json, str):\n",
    "        wiki_json = json.loads(wiki_json)\n",
    "    \n",
    "    data = []\n",
    "    for topic, entries in wiki_json.items():\n",
    "        for entry in entries:\n",
    "            data.append({\n",
    "                'title': entry.get('title'),\n",
    "                'revision_id': entry.get('revision_id'),\n",
    "                'summary': entry.get('summary'),\n",
    "                'url': entry.get('url'),\n",
    "                'topic': topic\n",
    "            })\n",
    "    \n",
    "    # Create a DataFrame from the collected data\n",
    "    df = pd.DataFrame(data)\n",
    "    return df"
   ]
  },
  {
   "cell_type": "code",
   "execution_count": 7,
   "metadata": {},
   "outputs": [],
   "source": [
    "wikipedia_df = parse_wiki_json(wiki_json)"
   ]
  },
  {
   "cell_type": "code",
   "execution_count": 8,
   "metadata": {},
   "outputs": [
    {
     "name": "stdout",
     "output_type": "stream",
     "text": [
      "{\n",
      "  \"responseHeader\":{\n",
      "    \"status\":0,\n",
      "    \"QTime\":27330\n",
      "  }\n",
      "}\n"
     ]
    }
   ],
   "source": [
    "# Index the sample dataset\n",
    "collection = wikipedia_df.to_dict('records')\n",
    "i.create_documents(collection)"
   ]
  },
  {
   "cell_type": "code",
   "execution_count": 9,
   "metadata": {},
   "outputs": [
    {
     "name": "stdout",
     "output_type": "stream",
     "text": [
      "Fields in the schema:\n",
      "Name: _nest_path_, Type: _nest_path_\n",
      "Name: _root_, Type: string\n",
      "Name: _text_, Type: text_general\n",
      "Name: _version_, Type: plong\n",
      "Name: id, Type: string\n",
      "Name: revision_id, Type: string\n",
      "Name: summary, Type: text_en\n",
      "Name: title, Type: string\n",
      "Name: topic, Type: string\n",
      "Name: url, Type: string\n",
      "\n",
      "Field Types in the schema:\n",
      "Name: _nest_path_, Class: solr.NestPathField\n",
      "Name: ancestor_path, Class: solr.TextField\n",
      "Name: binary, Class: solr.BinaryField\n",
      "Name: boolean, Class: solr.BoolField\n",
      "Name: booleans, Class: solr.BoolField\n",
      "Name: delimited_payloads_float, Class: solr.TextField\n",
      "Name: delimited_payloads_int, Class: solr.TextField\n",
      "Name: delimited_payloads_string, Class: solr.TextField\n",
      "Name: descendent_path, Class: solr.TextField\n",
      "Name: ignored, Class: solr.StrField\n",
      "Name: location, Class: solr.LatLonPointSpatialField\n",
      "Name: location_rpt, Class: solr.SpatialRecursivePrefixTreeFieldType\n",
      "Name: lowercase, Class: solr.TextField\n",
      "Name: pdate, Class: solr.DatePointField\n",
      "Name: pdates, Class: solr.DatePointField\n",
      "Name: pdouble, Class: solr.DoublePointField\n",
      "Name: pdoubles, Class: solr.DoublePointField\n",
      "Name: pfloat, Class: solr.FloatPointField\n",
      "Name: pfloats, Class: solr.FloatPointField\n",
      "Name: phonetic_en, Class: solr.TextField\n",
      "Name: pint, Class: solr.IntPointField\n",
      "Name: pints, Class: solr.IntPointField\n",
      "Name: plong, Class: solr.LongPointField\n",
      "Name: plongs, Class: solr.LongPointField\n",
      "Name: point, Class: solr.PointType\n",
      "Name: random, Class: solr.RandomSortField\n",
      "Name: rank, Class: solr.RankField\n",
      "Name: string, Class: solr.StrField\n",
      "Name: strings, Class: solr.StrField\n",
      "Name: text_ar, Class: solr.TextField\n",
      "Name: text_bg, Class: solr.TextField\n",
      "Name: text_ca, Class: solr.TextField\n",
      "Name: text_cjk, Class: solr.TextField\n",
      "Name: text_cz, Class: solr.TextField\n",
      "Name: text_da, Class: solr.TextField\n",
      "Name: text_de, Class: solr.TextField\n",
      "Name: text_el, Class: solr.TextField\n",
      "Name: text_en, Class: solr.TextField\n",
      "Name: text_en_splitting, Class: solr.TextField\n",
      "Name: text_en_splitting_tight, Class: solr.TextField\n",
      "Name: text_es, Class: solr.TextField\n",
      "Name: text_et, Class: solr.TextField\n",
      "Name: text_eu, Class: solr.TextField\n",
      "Name: text_fa, Class: solr.TextField\n",
      "Name: text_fi, Class: solr.TextField\n",
      "Name: text_fr, Class: solr.TextField\n",
      "Name: text_ga, Class: solr.TextField\n",
      "Name: text_gen_sort, Class: solr.SortableTextField\n",
      "Name: text_general, Class: solr.TextField\n",
      "Name: text_general_rev, Class: solr.TextField\n",
      "Name: text_gl, Class: solr.TextField\n",
      "Name: text_hi, Class: solr.TextField\n",
      "Name: text_hu, Class: solr.TextField\n",
      "Name: text_hy, Class: solr.TextField\n",
      "Name: text_id, Class: solr.TextField\n",
      "Name: text_it, Class: solr.TextField\n",
      "Name: text_ja, Class: solr.TextField\n",
      "Name: text_ko, Class: solr.TextField\n",
      "Name: text_lv, Class: solr.TextField\n",
      "Name: text_nl, Class: solr.TextField\n",
      "Name: text_no, Class: solr.TextField\n",
      "Name: text_pt, Class: solr.TextField\n",
      "Name: text_ro, Class: solr.TextField\n",
      "Name: text_ru, Class: solr.TextField\n",
      "Name: text_sv, Class: solr.TextField\n",
      "Name: text_th, Class: solr.TextField\n",
      "Name: text_tr, Class: solr.TextField\n",
      "Name: text_ws, Class: solr.TextField\n"
     ]
    }
   ],
   "source": [
    "import requests\n",
    "\n",
    "# Solr core URL\n",
    "solr_url = \"http://34.44.184.192:8983/solr/IRF24P2\"\n",
    "\n",
    "# Get all fields in the schema\n",
    "def fetch_schema_fields(solr_url):\n",
    "    schema_fields_url = f\"{solr_url}/schema/fields\"\n",
    "    response = requests.get(schema_fields_url)\n",
    "    \n",
    "    if response.status_code == 200:\n",
    "        fields = response.json().get(\"fields\", [])\n",
    "        print(\"Fields in the schema:\")\n",
    "        for field in fields:\n",
    "            print(f\"Name: {field['name']}, Type: {field['type']}\")\n",
    "    else:\n",
    "        print(f\"Failed to fetch schema fields. Status Code: {response.status_code}, Message: {response.text}\")\n",
    "\n",
    "# Get all field types in the schema\n",
    "def fetch_field_types(solr_url):\n",
    "    schema_field_types_url = f\"{solr_url}/schema/fieldtypes\"\n",
    "    response = requests.get(schema_field_types_url)\n",
    "    \n",
    "    if response.status_code == 200:\n",
    "        field_types = response.json().get(\"fieldTypes\", [])\n",
    "        print(\"\\nField Types in the schema:\")\n",
    "        for field_type in field_types:\n",
    "            print(f\"Name: {field_type['name']}, Class: {field_type['class']}\")\n",
    "    else:\n",
    "        print(f\"Failed to fetch field types. Status Code: {response.status_code}, Message: {response.text}\")\n",
    "\n",
    "# Execute the functions\n",
    "fetch_schema_fields(solr_url)\n",
    "fetch_field_types(solr_url)\n"
   ]
  },
  {
   "cell_type": "code",
   "execution_count": 17,
   "metadata": {},
   "outputs": [
    {
     "ename": "KeyError",
     "evalue": "'url'",
     "output_type": "error",
     "traceback": [
      "\u001b[0;31m---------------------------------------------------------------------------\u001b[0m",
      "\u001b[0;31mKeyError\u001b[0m                                  Traceback (most recent call last)",
      "Cell \u001b[0;32mIn[17], line 28\u001b[0m\n\u001b[1;32m     25\u001b[0m \u001b[38;5;66;03m# Process and display results\u001b[39;00m\n\u001b[1;32m     26\u001b[0m \u001b[38;5;28;01mfor\u001b[39;00m result \u001b[38;5;129;01min\u001b[39;00m results\u001b[38;5;241m.\u001b[39mdocs:\n\u001b[0;32m---> 28\u001b[0m     \u001b[38;5;28mprint\u001b[39m(\u001b[38;5;124mf\u001b[39m\u001b[38;5;124m\"\u001b[39m\u001b[38;5;124mID: \u001b[39m\u001b[38;5;132;01m{\u001b[39;00mresult[\u001b[38;5;124m'\u001b[39m\u001b[38;5;124mid\u001b[39m\u001b[38;5;124m'\u001b[39m]\u001b[38;5;132;01m}\u001b[39;00m\u001b[38;5;124m, Title: \u001b[39m\u001b[38;5;132;01m{\u001b[39;00mresult[\u001b[38;5;124m'\u001b[39m\u001b[38;5;124mtopic\u001b[39m\u001b[38;5;124m'\u001b[39m]\u001b[38;5;132;01m}\u001b[39;00m\u001b[38;5;124m, Summary: \u001b[39m\u001b[38;5;132;01m{\u001b[39;00mresult[\u001b[38;5;124m'\u001b[39m\u001b[38;5;124msummary\u001b[39m\u001b[38;5;124m'\u001b[39m]\u001b[38;5;132;01m}\u001b[39;00m\u001b[38;5;124m, URL: \u001b[39m\u001b[38;5;132;01m{\u001b[39;00m\u001b[43mresult\u001b[49m\u001b[43m[\u001b[49m\u001b[38;5;124;43m'\u001b[39;49m\u001b[38;5;124;43murl\u001b[39;49m\u001b[38;5;124;43m'\u001b[39;49m\u001b[43m]\u001b[49m\u001b[38;5;132;01m}\u001b[39;00m\u001b[38;5;124m\"\u001b[39m)\n",
      "\u001b[0;31mKeyError\u001b[0m: 'url'"
     ]
    }
   ],
   "source": [
    "import pysolr\n",
    "\n",
    "# Initialize the Solr client\n",
    "solr_url = \"http://34.44.184.192:8983/solr/IRF24P1\"\n",
    "solr = pysolr.Solr(solr_url, always_commit=True, timeout=10)\n",
    "\n",
    "# Define query parameters\n",
    "query = \"health\"  # Replace with your query term\n",
    "topics = [\"Health\", \"Education\"]  # Replace with the desired topic(s)\n",
    "k = 10  # Number of top results to retrieve\n",
    "\n",
    "# Build the Solr query\n",
    "fq_topics = \" OR \".join([f'topic:\"{topic}\"' for topic in topics])  # Filter by topics\n",
    "solr_query = {\n",
    "    \"q\": f'summary:\"{query}\"',  # Query in title or summary\n",
    "    \"fq\": fq_topics,  # Filter query by topics\n",
    "    \"fl\": \"id,revision_id,title,summary,URL,topic\",  # Fields to retrieve\n",
    "    \"rows\": 5,  # Number of results to return\n",
    "    \"sort\": \"score desc\"  # Sort by relevance (default Solr behavior)\n",
    "}\n",
    "\n",
    "# Execute the query\n",
    "results = solr.search(**solr_query)\n",
    "\n",
    "# Process and display results\n",
    "for result in results.docs:\n",
    "  \n",
    "    print(f\"ID: {result['id']}, Title: {result['topic']}, Summary: {result['summary']}, URL: {result['url']}\")\n"
   ]
  },
  {
   "cell_type": "code",
   "execution_count": 21,
   "metadata": {},
   "outputs": [
    {
     "ename": "AttributeError",
     "evalue": "'Results' object has no attribute 'topic'",
     "output_type": "error",
     "traceback": [
      "\u001b[0;31m---------------------------------------------------------------------------\u001b[0m",
      "\u001b[0;31mAttributeError\u001b[0m                            Traceback (most recent call last)",
      "Cell \u001b[0;32mIn[21], line 1\u001b[0m\n\u001b[0;32m----> 1\u001b[0m \u001b[43mresults\u001b[49m\u001b[38;5;241;43m.\u001b[39;49m\u001b[43mtopic\u001b[49m\n",
      "\u001b[0;31mAttributeError\u001b[0m: 'Results' object has no attribute 'topic'"
     ]
    }
   ],
   "source": [
    "results.topic"
   ]
  },
  {
   "cell_type": "code",
   "execution_count": null,
   "metadata": {},
   "outputs": [],
   "source": []
  }
 ],
 "metadata": {
  "colab": {
   "provenance": []
  },
  "kernelspec": {
   "display_name": "Python 3 (ipykernel)",
   "language": "python",
   "name": "python3"
  },
  "language_info": {
   "codemirror_mode": {
    "name": "ipython",
    "version": 3
   },
   "file_extension": ".py",
   "mimetype": "text/x-python",
   "name": "python",
   "nbconvert_exporter": "python",
   "pygments_lexer": "ipython3",
   "version": "3.11.2"
  }
 },
 "nbformat": 4,
 "nbformat_minor": 4
}
